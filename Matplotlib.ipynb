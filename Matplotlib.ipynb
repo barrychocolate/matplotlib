{
 "cells": [
  {
   "cell_type": "markdown",
   "id": "3da2cf5b",
   "metadata": {},
   "source": [
    "# Matplotlib"
   ]
  },
  {
   "cell_type": "markdown",
   "id": "07a9b4a4",
   "metadata": {},
   "source": [
    "In this notebook i will demonstart how to create some of the common visualisations using pandas (for the data) and matplotlib (for the visualisations)."
   ]
  },
  {
   "cell_type": "markdown",
   "id": "7512c695",
   "metadata": {},
   "source": [
    "## Python Terminology\n",
    "A **library** contains reuseable code modules.  We can import these into our projects to perform common tasks without having to write the complex code ouselves.  For example the Matplotlib library contains lots of useful functions that we can use to visualise data.\n",
    "\n",
    "A **module** is a collection of code that is for a specific task.  Some libaries conatin only a single module, others contain multiple modules for similar tasks.  For example the Matplotlib libarary has a **pyplot** module for visulaing 2d data.\n"
   ]
  },
  {
   "cell_type": "markdown",
   "id": "0f2e7e21",
   "metadata": {},
   "source": [
    "## Project Setup"
   ]
  },
  {
   "cell_type": "code",
   "execution_count": 180,
   "id": "b4249b55",
   "metadata": {},
   "outputs": [],
   "source": [
    "# import the pandas library so we can use its pre written code to handle our data\n",
    "import pandas as pd \n",
    "\n",
    "# import the pyplot module from the maplotlib library so we can visualise the data in 2d\n",
    "import matplotlib.pyplot as plt\n",
    "\n",
    "# import numpy library as it has some useful features for calculating statistics\n",
    "import numpy as np"
   ]
  },
  {
   "cell_type": "markdown",
   "id": "a67e0357",
   "metadata": {},
   "source": [
    "## Our Data"
   ]
  },
  {
   "cell_type": "markdown",
   "id": "135526c7",
   "metadata": {},
   "source": [
    "We will look at the two common ways of obtaining our data:\n",
    "1. We can hand write the values in our code like this"
   ]
  },
  {
   "cell_type": "code",
   "execution_count": 149,
   "id": "0122823a",
   "metadata": {},
   "outputs": [
    {
     "data": {
      "text/html": [
       "<div>\n",
       "<style scoped>\n",
       "    .dataframe tbody tr th:only-of-type {\n",
       "        vertical-align: middle;\n",
       "    }\n",
       "\n",
       "    .dataframe tbody tr th {\n",
       "        vertical-align: top;\n",
       "    }\n",
       "\n",
       "    .dataframe thead th {\n",
       "        text-align: right;\n",
       "    }\n",
       "</style>\n",
       "<table border=\"1\" class=\"dataframe\">\n",
       "  <thead>\n",
       "    <tr style=\"text-align: right;\">\n",
       "      <th></th>\n",
       "      <th>x</th>\n",
       "      <th>y</th>\n",
       "      <th>z</th>\n",
       "      <th>sales</th>\n",
       "      <th>team</th>\n",
       "      <th>name</th>\n",
       "    </tr>\n",
       "  </thead>\n",
       "  <tbody>\n",
       "    <tr>\n",
       "      <th>0</th>\n",
       "      <td>25</td>\n",
       "      <td>5</td>\n",
       "      <td>3</td>\n",
       "      <td>52</td>\n",
       "      <td>Team A</td>\n",
       "      <td>Adam</td>\n",
       "    </tr>\n",
       "    <tr>\n",
       "      <th>1</th>\n",
       "      <td>12</td>\n",
       "      <td>7</td>\n",
       "      <td>4</td>\n",
       "      <td>413</td>\n",
       "      <td>Team A</td>\n",
       "      <td>Charlie</td>\n",
       "    </tr>\n",
       "    <tr>\n",
       "      <th>2</th>\n",
       "      <td>15</td>\n",
       "      <td>7</td>\n",
       "      <td>4</td>\n",
       "      <td>253</td>\n",
       "      <td>Team B</td>\n",
       "      <td>Jim</td>\n",
       "    </tr>\n",
       "    <tr>\n",
       "      <th>3</th>\n",
       "      <td>14</td>\n",
       "      <td>9</td>\n",
       "      <td>5</td>\n",
       "      <td>65</td>\n",
       "      <td>Team B</td>\n",
       "      <td>David</td>\n",
       "    </tr>\n",
       "    <tr>\n",
       "      <th>4</th>\n",
       "      <td>19</td>\n",
       "      <td>12</td>\n",
       "      <td>7</td>\n",
       "      <td>170</td>\n",
       "      <td>Team B</td>\n",
       "      <td>Millard</td>\n",
       "    </tr>\n",
       "    <tr>\n",
       "      <th>5</th>\n",
       "      <td>23</td>\n",
       "      <td>9</td>\n",
       "      <td>8</td>\n",
       "      <td>230</td>\n",
       "      <td>Team C</td>\n",
       "      <td>Dan</td>\n",
       "    </tr>\n",
       "    <tr>\n",
       "      <th>6</th>\n",
       "      <td>25</td>\n",
       "      <td>9</td>\n",
       "      <td>8</td>\n",
       "      <td>395</td>\n",
       "      <td>Team C</td>\n",
       "      <td>Maria</td>\n",
       "    </tr>\n",
       "    <tr>\n",
       "      <th>7</th>\n",
       "      <td>29</td>\n",
       "      <td>4</td>\n",
       "      <td>9</td>\n",
       "      <td>353</td>\n",
       "      <td>Team C</td>\n",
       "      <td>Anna</td>\n",
       "    </tr>\n",
       "  </tbody>\n",
       "</table>\n",
       "</div>"
      ],
      "text/plain": [
       "    x   y  z  sales    team     name\n",
       "0  25   5  3     52  Team A     Adam\n",
       "1  12   7  4    413  Team A  Charlie\n",
       "2  15   7  4    253  Team B      Jim\n",
       "3  14   9  5     65  Team B    David\n",
       "4  19  12  7    170  Team B  Millard\n",
       "5  23   9  8    230  Team C      Dan\n",
       "6  25   9  8    395  Team C    Maria\n",
       "7  29   4  9    353  Team C     Anna"
      ]
     },
     "metadata": {},
     "output_type": "display_data"
    }
   ],
   "source": [
    "# Create a pandas dataframe called our_data with three columns\n",
    "our_data = pd.DataFrame({'x': [25, 12, 15, 14, 19, 23, 25, 29],\n",
    "                   'y': [5, 7, 7, 9, 12, 9, 9, 4],\n",
    "                   'z': [3, 4, 4, 5, 7, 8, 8, 9],\n",
    "                    'sales': [52, 413, 253, 65, 170, 230, 395, 353],\n",
    "                    'team':[\"Team A\", \"Team A\", \"Team B\", \"Team B\", \"Team B\", \"Team C\", \"Team C\", \"Team C\"],\n",
    "                    'name':[\"Adam\", \"Charlie\", \"Jim\", \"David\", \"Millard\", \"Dan\", \"Maria\", \"Anna\"]})\n",
    "\n",
    "\n",
    "# Display our DataFrame\n",
    "display(our_data)                        "
   ]
  },
  {
   "cell_type": "markdown",
   "id": "5e26b451",
   "metadata": {},
   "source": [
    "We can save a Pandas dataframe to a file using to_csv"
   ]
  },
  {
   "cell_type": "code",
   "execution_count": 150,
   "id": "3d410753",
   "metadata": {},
   "outputs": [],
   "source": [
    "# Save the dataframe to a csv file called out_data.csv in the same folder as the code\n",
    "# Index = False stops it from saving the row number in the csv file\n",
    "our_data.to_csv('our_data.csv', index = False)"
   ]
  },
  {
   "cell_type": "markdown",
   "id": "0f9f8cf1",
   "metadata": {},
   "source": [
    "2. Alternatively, we could load the data from a file"
   ]
  },
  {
   "cell_type": "code",
   "execution_count": 151,
   "id": "8670257e",
   "metadata": {},
   "outputs": [
    {
     "data": {
      "text/html": [
       "<div>\n",
       "<style scoped>\n",
       "    .dataframe tbody tr th:only-of-type {\n",
       "        vertical-align: middle;\n",
       "    }\n",
       "\n",
       "    .dataframe tbody tr th {\n",
       "        vertical-align: top;\n",
       "    }\n",
       "\n",
       "    .dataframe thead th {\n",
       "        text-align: right;\n",
       "    }\n",
       "</style>\n",
       "<table border=\"1\" class=\"dataframe\">\n",
       "  <thead>\n",
       "    <tr style=\"text-align: right;\">\n",
       "      <th></th>\n",
       "      <th>x</th>\n",
       "      <th>y</th>\n",
       "      <th>z</th>\n",
       "      <th>sales</th>\n",
       "      <th>team</th>\n",
       "      <th>name</th>\n",
       "    </tr>\n",
       "  </thead>\n",
       "  <tbody>\n",
       "    <tr>\n",
       "      <th>0</th>\n",
       "      <td>25</td>\n",
       "      <td>5</td>\n",
       "      <td>3</td>\n",
       "      <td>52</td>\n",
       "      <td>Team A</td>\n",
       "      <td>Adam</td>\n",
       "    </tr>\n",
       "    <tr>\n",
       "      <th>1</th>\n",
       "      <td>12</td>\n",
       "      <td>7</td>\n",
       "      <td>4</td>\n",
       "      <td>413</td>\n",
       "      <td>Team A</td>\n",
       "      <td>Charlie</td>\n",
       "    </tr>\n",
       "    <tr>\n",
       "      <th>2</th>\n",
       "      <td>15</td>\n",
       "      <td>7</td>\n",
       "      <td>4</td>\n",
       "      <td>253</td>\n",
       "      <td>Team B</td>\n",
       "      <td>Jim</td>\n",
       "    </tr>\n",
       "    <tr>\n",
       "      <th>3</th>\n",
       "      <td>14</td>\n",
       "      <td>9</td>\n",
       "      <td>5</td>\n",
       "      <td>65</td>\n",
       "      <td>Team B</td>\n",
       "      <td>David</td>\n",
       "    </tr>\n",
       "    <tr>\n",
       "      <th>4</th>\n",
       "      <td>19</td>\n",
       "      <td>12</td>\n",
       "      <td>7</td>\n",
       "      <td>170</td>\n",
       "      <td>Team B</td>\n",
       "      <td>Millard</td>\n",
       "    </tr>\n",
       "    <tr>\n",
       "      <th>5</th>\n",
       "      <td>23</td>\n",
       "      <td>9</td>\n",
       "      <td>8</td>\n",
       "      <td>230</td>\n",
       "      <td>Team C</td>\n",
       "      <td>Dan</td>\n",
       "    </tr>\n",
       "    <tr>\n",
       "      <th>6</th>\n",
       "      <td>25</td>\n",
       "      <td>9</td>\n",
       "      <td>8</td>\n",
       "      <td>395</td>\n",
       "      <td>Team C</td>\n",
       "      <td>Maria</td>\n",
       "    </tr>\n",
       "    <tr>\n",
       "      <th>7</th>\n",
       "      <td>29</td>\n",
       "      <td>4</td>\n",
       "      <td>9</td>\n",
       "      <td>353</td>\n",
       "      <td>Team C</td>\n",
       "      <td>Anna</td>\n",
       "    </tr>\n",
       "  </tbody>\n",
       "</table>\n",
       "</div>"
      ],
      "text/plain": [
       "    x   y  z  sales    team     name\n",
       "0  25   5  3     52  Team A     Adam\n",
       "1  12   7  4    413  Team A  Charlie\n",
       "2  15   7  4    253  Team B      Jim\n",
       "3  14   9  5     65  Team B    David\n",
       "4  19  12  7    170  Team B  Millard\n",
       "5  23   9  8    230  Team C      Dan\n",
       "6  25   9  8    395  Team C    Maria\n",
       "7  29   4  9    353  Team C     Anna"
      ]
     },
     "metadata": {},
     "output_type": "display_data"
    }
   ],
   "source": [
    "# Load the data from the file 'our_data.csv' in to a pandas dataframe\n",
    "# This file must be in the same folder as this code to work\n",
    "our_data = pd.read_csv('our_data.csv')\n",
    "\n",
    "# To load a file from a differnt folder you need to add the path\n",
    "# our_data = pd.read_csv('/folder/other_folder/our_data.csv')\n",
    "\n",
    "# Display our DataFrame\n",
    "display(our_data)"
   ]
  },
  {
   "cell_type": "markdown",
   "id": "4ce51edb",
   "metadata": {},
   "source": [
    "## Visualisations\n",
    "### ScatterPlot\n",
    "#### Simple"
   ]
  },
  {
   "cell_type": "code",
   "execution_count": 152,
   "id": "f16864b5",
   "metadata": {},
   "outputs": [
    {
     "data": {
      "image/png": "[encoded data removed]",
      "text/plain": [
       "<Figure size 432x288 with 1 Axes>"
      ]
     },
     "metadata": {
      "needs_background": "light"
     },
     "output_type": "display_data"
    }
   ],
   "source": [
    "# Create a simple scatter plot of the X and y columns in our dataframe\n",
    "plt.scatter(our_data.x, our_data.y)\n",
    "plt.show()"
   ]
  },
  {
   "cell_type": "markdown",
   "id": "c5de8321",
   "metadata": {},
   "source": [
    "#### Marker size\n",
    "We can change the size of the marker using the **s** parameter"
   ]
  },
  {
   "cell_type": "code",
   "execution_count": 153,
   "id": "bd0050f9",
   "metadata": {},
   "outputs": [
    {
     "data": {
      "image/png": "[encoded data removed]",
      "text/plain": [
       "<Figure size 432x288 with 1 Axes>"
      ]
     },
     "metadata": {
      "needs_background": "light"
     },
     "output_type": "display_data"
    }
   ],
   "source": [
    "# Change the markers size to 200\n",
    "plt.scatter(our_data.x, our_data.y, s=200)\n",
    "plt.show()"
   ]
  },
  {
   "cell_type": "markdown",
   "id": "cfed25fe",
   "metadata": {},
   "source": [
    "#### Variable column size\n",
    "Set the marker size to a column in our data"
   ]
  },
  {
   "cell_type": "code",
   "execution_count": 154,
   "id": "0f917abc",
   "metadata": {},
   "outputs": [
    {
     "data": {
      "image/png": "[encoded data removed]",
      "text/plain": [
       "<Figure size 432x288 with 1 Axes>"
      ]
     },
     "metadata": {
      "needs_background": "light"
     },
     "output_type": "display_data"
    }
   ],
   "source": [
    "#Use the sales column in our dataframe for the marker size\n",
    "plt.scatter(our_data.x, our_data.y, s=our_data.sales)\n",
    "plt.show()"
   ]
  },
  {
   "cell_type": "markdown",
   "id": "79ed64bb",
   "metadata": {},
   "source": [
    "#### Marker colour\n",
    "Set the colour of the marker using a numeric column in our data.  Matplotlib will create a gradiant based on the values of the column.\n",
    "\n",
    "The matplotlib site has a [range of colour maps](https://matplotlib.org/stable/tutorials/colors/colormaps.html) (cmaps) to chose from depending on whether your data is sequential or qualitive."
   ]
  },
  {
   "cell_type": "code",
   "execution_count": 155,
   "id": "ff77507e",
   "metadata": {},
   "outputs": [
    {
     "data": {
      "image/png": "[encoded data removed]",
      "text/plain": [
       "<Figure size 432x288 with 1 Axes>"
      ]
     },
     "metadata": {
      "needs_background": "light"
     },
     "output_type": "display_data"
    }
   ],
   "source": [
    "# Use the c parameter to determine the colour of our dots\n",
    "# use the cmap parameter to determine which colour sclae to use\n",
    "# Note we have fixed the marker size\n",
    "plt.scatter(our_data.x, our_data.y, s=200, c=our_data.z, cmap='gray')\n",
    "plt.show()"
   ]
  },
  {
   "cell_type": "code",
   "execution_count": 156,
   "id": "dfe3a8d9",
   "metadata": {},
   "outputs": [
    {
     "data": {
      "image/png": "[encoded data removed]",
      "text/plain": [
       "<Figure size 432x288 with 1 Axes>"
      ]
     },
     "metadata": {
      "needs_background": "light"
     },
     "output_type": "display_data"
    }
   ],
   "source": [
    "# Use the c parameter to determine the colour of our dots\n",
    "# use the cmap parameter to determine which colour sclae to use\n",
    "# Note we have fixed the marker size\n",
    "plt.scatter(our_data.x, our_data.y, s=200, c=our_data.z, cmap='autumn')\n",
    "plt.show()"
   ]
  },
  {
   "cell_type": "markdown",
   "id": "435436e0",
   "metadata": {},
   "source": [
    "#### Colour by group\n",
    "In this example we will colour the markers based on the team.\n",
    "\n",
    "First we need to group our data by teams.  This effectively creates a dataframe for each team."
   ]
  },
  {
   "cell_type": "code",
   "execution_count": 157,
   "id": "58024fdf",
   "metadata": {},
   "outputs": [
    {
     "name": "stdout",
     "output_type": "stream",
     "text": [
      "    x  y  z  sales    team     name\n",
      "0  25  5  3     52  Team A     Adam\n",
      "1  12  7  4    413  Team A  Charlie \n",
      "\n",
      "\n",
      "    x   y  z  sales    team     name\n",
      "2  15   7  4    253  Team B      Jim\n",
      "3  14   9  5     65  Team B    David\n",
      "4  19  12  7    170  Team B  Millard \n",
      "\n",
      "\n",
      "    x  y  z  sales    team   name\n",
      "5  23  9  8    230  Team C    Dan\n",
      "6  25  9  8    395  Team C  Maria\n",
      "7  29  4  9    353  Team C   Anna \n",
      "\n",
      "\n"
     ]
    }
   ],
   "source": [
    "# get a list of the teams in our team column\n",
    "groups = our_data.groupby('team')\n",
    "\n",
    "# If we wanted to view our grouped data we can use this code\n",
    "for key, item in groups:\n",
    "    print(groups.get_group(key), \"\\n\\n\")"
   ]
  },
  {
   "cell_type": "markdown",
   "id": "10ff9c81",
   "metadata": {},
   "source": [
    "We then call the plot function for each of the 3 datasets.  Matplotlib will give each one a different colour."
   ]
  },
  {
   "cell_type": "code",
   "execution_count": 158,
   "id": "b4cdc4b0",
   "metadata": {},
   "outputs": [
    {
     "data": {
      "image/png": "[encoded data removed]",
      "text/plain": [
       "<Figure size 432x288 with 1 Axes>"
      ]
     },
     "metadata": {
      "needs_background": "light"
     },
     "output_type": "display_data"
    }
   ],
   "source": [
    "# Loop through each of the teams dataframes\n",
    "for name, group in groups:\n",
    "    # Plot that teams markers\n",
    "    # marker='o' means our markers are circles\n",
    "    # linestyle='' means our markers are not connected\n",
    "    # markersize=12 sets the size of the marker\n",
    "    # label=name sets the name that appears in the legend to the team name\n",
    "    plt.plot(group.x, group.y, marker='o', linestyle='', markersize=12, label=name)\n",
    "\n",
    "# Now we have plotted our 3 datasets we tell it to show the legend\n",
    "# Note you can specify the position of the legend using the loc parameter\n",
    "# options include 'upper center', 'lower center', 'center left', 'center right'\n",
    "# 'upper left', 'upper right', 'lower left', 'lower right'\n",
    "plt.legend(loc = 'best')\n",
    "\n",
    "# now we ask it to show the plot\n",
    "plt.show()"
   ]
  },
  {
   "cell_type": "markdown",
   "id": "93244d30",
   "metadata": {},
   "source": [
    "#### Adding Titles and axis labels"
   ]
  },
  {
   "cell_type": "code",
   "execution_count": 159,
   "id": "68c4c9bf",
   "metadata": {},
   "outputs": [
    {
     "data": {
      "image/png": "[encoded data removed]",
      "text/plain": [
       "<Figure size 432x288 with 1 Axes>"
      ]
     },
     "metadata": {
      "needs_background": "light"
     },
     "output_type": "display_data"
    }
   ],
   "source": [
    "# Create a simple scatter plot of the X and y columns in our dataframe\n",
    "plt.scatter(our_data.x, our_data.y)\n",
    "\n",
    "#add title\n",
    "plt.title('My Title')\n",
    "\n",
    "# Show the plot\n",
    "plt.show()"
   ]
  },
  {
   "cell_type": "code",
   "execution_count": 177,
   "id": "64e2da74",
   "metadata": {},
   "outputs": [
    {
     "data": {
      "image/png": "[encoded data removed]",
      "text/plain": [
       "<Figure size 432x288 with 1 Axes>"
      ]
     },
     "metadata": {
      "needs_background": "light"
     },
     "output_type": "display_data"
    }
   ],
   "source": [
    "# Create a simple scatter plot of the X and y columns in our dataframe\n",
    "plt.scatter(our_data.x, our_data.y)\n",
    "\n",
    "#add title\n",
    "plt.title('My Title')\n",
    "\n",
    "# add axis labels\n",
    "plt.xlabel(\"X axis label\")\n",
    "plt.ylabel(\"Y axis label\")\n",
    "\n",
    "# Show the plot\n",
    "plt.show()"
   ]
  },
  {
   "cell_type": "markdown",
   "id": "38be1242",
   "metadata": {},
   "source": [
    "Change the font size of our title"
   ]
  },
  {
   "cell_type": "code",
   "execution_count": 178,
   "id": "fbbbe9a2",
   "metadata": {},
   "outputs": [
    {
     "data": {
      "image/png": "[encoded data removed]",
      "text/plain": [
       "<Figure size 432x288 with 1 Axes>"
      ]
     },
     "metadata": {
      "needs_background": "light"
     },
     "output_type": "display_data"
    }
   ],
   "source": [
    "# Create a simple scatter plot of the X and y columns in our dataframe\n",
    "plt.scatter(our_data.x, our_data.y)\n",
    "\n",
    "#add title\n",
    "plt.title('My Title', fontsize=30)\n",
    "\n",
    "# add axis labels\n",
    "plt.xlabel(\"X axis label\")\n",
    "plt.ylabel(\"Y axis label\")\n",
    "\n",
    "# Show the plot\n",
    "plt.show()\n"
   ]
  },
  {
   "cell_type": "markdown",
   "id": "1f95db60",
   "metadata": {},
   "source": [
    "#### Annotating scatterplots\n",
    "We can annotate one or more points on our scatter plot"
   ]
  },
  {
   "cell_type": "code",
   "execution_count": 161,
   "id": "04f8cc7a",
   "metadata": {},
   "outputs": [
    {
     "data": {
      "image/png": "[encoded data removed]",
      "text/plain": [
       "<Figure size 432x288 with 1 Axes>"
      ]
     },
     "metadata": {
      "needs_background": "light"
     },
     "output_type": "display_data"
    }
   ],
   "source": [
    "# Create a simple scatter plot of the X and y columns in our dataframe\n",
    "plt.scatter(our_data.x, our_data.y)\n",
    "\n",
    "# We will add text above the marker at x=12 y=7\n",
    "# We will add 0.5 to the y position of the marker\n",
    "# so our text sits above rather than on the marker\n",
    "# we will add the text 'here'\n",
    "plt.text(12, 7.5, 'Here')\n",
    "\n",
    "# Show the plot\n",
    "plt.show()"
   ]
  },
  {
   "cell_type": "code",
   "execution_count": 162,
   "id": "1a4e4edb",
   "metadata": {},
   "outputs": [
    {
     "data": {
      "image/png": "[encoded data removed]",
      "text/plain": [
       "<Figure size 432x288 with 1 Axes>"
      ]
     },
     "metadata": {
      "needs_background": "light"
     },
     "output_type": "display_data"
    }
   ],
   "source": [
    "# Create a simple scatter plot of the X and y columns in our dataframe\n",
    "plt.scatter(our_data.x, our_data.y)\n",
    "\n",
    "# annotate multiple markers with text\n",
    "plt.text(14, 9.5, 'This')\n",
    "plt.text(23, 9.5, 'That')\n",
    "plt.text(25, 5.5, 'Those')\n",
    "\n",
    "# Show the plot\n",
    "plt.show()"
   ]
  },
  {
   "cell_type": "markdown",
   "id": "a493ac9b",
   "metadata": {},
   "source": [
    "#### Annotate using labels in our data"
   ]
  },
  {
   "cell_type": "code",
   "execution_count": 175,
   "id": "95bbbb03",
   "metadata": {},
   "outputs": [
    {
     "data": {
      "image/png": "[encoded data removed]",
      "text/plain": [
       "<Figure size 432x288 with 1 Axes>"
      ]
     },
     "metadata": {
      "needs_background": "light"
     },
     "output_type": "display_data"
    }
   ],
   "source": [
    "# Create a simple scatter plot of the X and y columns in our dataframe\n",
    "plt.scatter(our_data.x, our_data.y)\n",
    "\n",
    "# Annotate all points using a label from our dataset\n",
    "\n",
    "# Get a list of all the names from the name column in our dataset\n",
    "our_labels=list(our_data.name)\n",
    "\n",
    "# Loop through each name in the list\n",
    "# i is a counter starting at zero increasing for each name\n",
    "# We use it to find the coordinates for each point so\n",
    "# we know where to put our text\n",
    "for i, txt in enumerate(our_labels):\n",
    "    # add an annotation for this name\n",
    "    # Add it at the relevant x and y cordinates for the name\n",
    "    # we will add 0.5 to the x cordinate of the point\n",
    "    # so our text appears to the right of the point\n",
    "    plt.annotate(txt, (our_data.x[i] + 0.5, our_data.y[i]))\n",
    "\n",
    "#Show the plot\n",
    "plt.show()"
   ]
  },
  {
   "cell_type": "markdown",
   "id": "0485ac3b",
   "metadata": {},
   "source": [
    "#### Add Average lines\n",
    "We can add additional lines to our plot, for example to show where the average values are."
   ]
  },
  {
   "cell_type": "code",
   "execution_count": 179,
   "id": "5201f1ca",
   "metadata": {},
   "outputs": [
    {
     "data": {
      "image/png": "[encoded data removed]",
      "text/plain": [
       "<Figure size 432x288 with 1 Axes>"
      ]
     },
     "metadata": {
      "needs_background": "light"
     },
     "output_type": "display_data"
    }
   ],
   "source": [
    "# Create a simple scatter plot of the X and y columns in our dataframe\n",
    "plt.scatter(our_data.x, our_data.y)\n",
    "\n",
    "# add a  horizontal line at mean value of y\n",
    "# We will use the np.nanmean function to calculate the mean\n",
    "plt.axhline(y=np.nanmean(df.y))\n",
    "\n",
    "#Show the plot\n",
    "plt.show()"
   ]
  },
  {
   "cell_type": "code",
   "execution_count": 184,
   "id": "97a25909",
   "metadata": {},
   "outputs": [
    {
     "data": {
      "image/png": "[encoded data removed]",
      "text/plain": [
       "<Figure size 432x288 with 1 Axes>"
      ]
     },
     "metadata": {
      "needs_background": "light"
     },
     "output_type": "display_data"
    }
   ],
   "source": [
    "# Create a simple scatter plot of the X and y columns in our dataframe\n",
    "plt.scatter(our_data.x, our_data.y)\n",
    "\n",
    "# add vertical line at mean value of X\n",
    "# We will use the np.nanmean function to calculate the mean\n",
    "plt.axvline(x=np.nanmean(our_data.x))\n",
    "\n",
    "#Show the plot\n",
    "plt.show()"
   ]
  },
  {
   "cell_type": "code",
   "execution_count": 185,
   "id": "9ca57fe8",
   "metadata": {},
   "outputs": [
    {
     "data": {
      "image/png": "[encoded data removed]",
      "text/plain": [
       "<Figure size 432x288 with 1 Axes>"
      ]
     },
     "metadata": {
      "needs_background": "light"
     },
     "output_type": "display_data"
    }
   ],
   "source": [
    "# Create a simple scatter plot of the X and y columns in our dataframe\n",
    "plt.scatter(our_data.x, our_data.y)\n",
    "\n",
    "# add vertical line at mean value of X\n",
    "plt.axvline(x=np.nanmean(our_data.x))\n",
    "\n",
    "#add horizontal line at mean value of y\n",
    "plt.axhline(y=np.nanmean(df.y))\n",
    "\n",
    "#Show the plot\n",
    "plt.show()"
   ]
  },
  {
   "cell_type": "markdown",
   "id": "9944b146",
   "metadata": {},
   "source": [
    "We can also use additional parameters to change the colour, style, width and label of the lines"
   ]
  },
  {
   "cell_type": "code",
   "execution_count": 189,
   "id": "85cf01c7",
   "metadata": {},
   "outputs": [
    {
     "data": {
      "image/png": "[encoded data removed]",
      "text/plain": [
       "<Figure size 432x288 with 1 Axes>"
      ]
     },
     "metadata": {
      "needs_background": "light"
     },
     "output_type": "display_data"
    }
   ],
   "source": [
    "# Create a simple scatter plot of the X and y columns in our dataframe\n",
    "plt.scatter(our_data.x, our_data.y)\n",
    "\n",
    "# plot dotted lines with \n",
    "plt.axhline(y=np.nanmean(our_data.y), color='red', linestyle='--', linewidth=2, label='Y mean')\n",
    "plt.axvline(x=np.nanmean(our_data.x), color='blue', linestyle='--', linewidth=2, label='X mean')\n",
    "\n",
    "# Show the legend so we can see our line labels\n",
    "plt.legend()\n",
    "\n",
    "#Show the plot\n",
    "plt.show()"
   ]
  },
  {
   "cell_type": "markdown",
   "id": "2ae04436",
   "metadata": {},
   "source": [
    "#### Saving a plot to a file\n",
    "We can save a plot to a file so we can use it in reports etc."
   ]
  },
  {
   "cell_type": "code",
   "execution_count": 202,
   "id": "d2e93445",
   "metadata": {},
   "outputs": [
    {
     "data": {
      "image/png": "[encoded data removed]",
      "text/plain": [
       "<Figure size 432x288 with 1 Axes>"
      ]
     },
     "metadata": {
      "needs_background": "light"
     },
     "output_type": "display_data"
    },
    {
     "data": {
      "text/plain": [
       "<Figure size 432x288 with 0 Axes>"
      ]
     },
     "metadata": {},
     "output_type": "display_data"
    }
   ],
   "source": [
    "# First we create the plot\n",
    "plt.scatter(our_data.x, our_data.y)\n",
    "\n",
    "# add mean lines\n",
    "plt.axhline(y=np.nanmean(our_data.y), color='red', linestyle='--', linewidth=2, label='Y mean')\n",
    "plt.axvline(x=np.nanmean(our_data.x), color='blue', linestyle='--', linewidth=2, label='X mean')\n",
    "\n",
    "#add title\n",
    "plt.title('My Title', fontsize=30)\n",
    "\n",
    "# add axis labels\n",
    "plt.xlabel(\"X axis label\")\n",
    "plt.ylabel(\"Y axis label\")\n",
    "\n",
    "# Show Legend\n",
    "plt.legend()\n",
    "\n",
    "# note we don't call plt.show()\n",
    "# instead we save it with the name 'my_plot.png'\n",
    "plt.savefig('my_plot.png')\n",
    "\n",
    "# If you wanted to save it with a transparent background\n",
    "#plt.savefig('my_plot.png', transparent=True)"
   ]
  },
  {
   "cell_type": "code",
   "execution_count": null,
   "id": "c88ad4de",
   "metadata": {},
   "outputs": [],
   "source": []
  }
 ],
 "metadata": {
  "kernelspec": {
   "display_name": "Python 3 (ipykernel)",
   "language": "python",
   "name": "python3"
  },
  "language_info": {
   "codemirror_mode": {
    "name": "ipython",
    "version": 3
   },
   "file_extension": ".py",
   "mimetype": "text/x-python",
   "name": "python",
   "nbconvert_exporter": "python",
   "pygments_lexer": "ipython3",
   "version": "3.8.12"
  }
 },
 "nbformat": 4,
 "nbformat_minor": 5
}
